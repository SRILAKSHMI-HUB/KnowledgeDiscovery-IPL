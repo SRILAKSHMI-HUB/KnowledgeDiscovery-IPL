{
  "nbformat": 4,
  "nbformat_minor": 0,
  "metadata": {
    "colab": {
      "name": "DataMiningReview2_KMeansClustering.ipynb",
      "provenance": []
    },
    "kernelspec": {
      "name": "python3",
      "display_name": "Python 3"
    },
    "language_info": {
      "name": "python"
    }
  },
  "cells": [
    {
      "cell_type": "code",
      "metadata": {
        "id": "cdUlsjvZ1Ek_"
      },
      "source": [
        "Clustering the Batsmen and the Bowlers according to their Performance from IPL Data"
      ],
      "execution_count": null,
      "outputs": []
    },
    {
      "cell_type": "code",
      "metadata": {
        "id": "XOyD2SiO3gqZ"
      },
      "source": [
        "import pandas as pd\n",
        "import numpy as np\n",
        "import matplotlib.pyplot as plt\n",
        "import seaborn as sns\n",
        "import io\n",
        "from io import StringIO\n",
        "from sklearn.cluster import KMeans"
      ],
      "execution_count": 7,
      "outputs": []
    },
    {
      "cell_type": "code",
      "metadata": {
        "colab": {
          "base_uri": "https://localhost:8080/",
          "height": 391
        },
        "id": "QXGc2qCRIob5",
        "outputId": "5c302fbe-d591-4404-acae-74ba0cda3746"
      },
      "source": [
        "runs=pd.read_excel('/content/IPL Ball-by-Ball 2008-2020.xlsx')\n",
        "runs.head()"
      ],
      "execution_count": 2,
      "outputs": [
        {
          "output_type": "execute_result",
          "data": {
            "text/html": [
              "<div>\n",
              "<style scoped>\n",
              "    .dataframe tbody tr th:only-of-type {\n",
              "        vertical-align: middle;\n",
              "    }\n",
              "\n",
              "    .dataframe tbody tr th {\n",
              "        vertical-align: top;\n",
              "    }\n",
              "\n",
              "    .dataframe thead th {\n",
              "        text-align: right;\n",
              "    }\n",
              "</style>\n",
              "<table border=\"1\" class=\"dataframe\">\n",
              "  <thead>\n",
              "    <tr style=\"text-align: right;\">\n",
              "      <th></th>\n",
              "      <th>match_id</th>\n",
              "      <th>season</th>\n",
              "      <th>start_date</th>\n",
              "      <th>venue</th>\n",
              "      <th>innings</th>\n",
              "      <th>ball</th>\n",
              "      <th>batting_team</th>\n",
              "      <th>bowling_team</th>\n",
              "      <th>striker</th>\n",
              "      <th>non_striker</th>\n",
              "      <th>bowler</th>\n",
              "      <th>runs_off_bat</th>\n",
              "      <th>extras</th>\n",
              "      <th>wides</th>\n",
              "      <th>noballs</th>\n",
              "      <th>byes</th>\n",
              "      <th>legbyes</th>\n",
              "      <th>penalty</th>\n",
              "      <th>wicket_type</th>\n",
              "      <th>player_dismissed</th>\n",
              "      <th>other_wicket_type</th>\n",
              "      <th>other_player_dismissed</th>\n",
              "    </tr>\n",
              "  </thead>\n",
              "  <tbody>\n",
              "    <tr>\n",
              "      <th>0</th>\n",
              "      <td>335982</td>\n",
              "      <td>2007-08-01 00:00:00</td>\n",
              "      <td>18-04-2008</td>\n",
              "      <td>M Chinnaswamy Stadium</td>\n",
              "      <td>1</td>\n",
              "      <td>0.1</td>\n",
              "      <td>Kolkata Knight Riders</td>\n",
              "      <td>Royal Challengers Bangalore</td>\n",
              "      <td>SC Ganguly</td>\n",
              "      <td>BB McCullum</td>\n",
              "      <td>P Kumar</td>\n",
              "      <td>0</td>\n",
              "      <td>1</td>\n",
              "      <td>NaN</td>\n",
              "      <td>NaN</td>\n",
              "      <td>NaN</td>\n",
              "      <td>1.0</td>\n",
              "      <td>NaN</td>\n",
              "      <td>NaN</td>\n",
              "      <td>NaN</td>\n",
              "      <td>NaN</td>\n",
              "      <td>NaN</td>\n",
              "    </tr>\n",
              "    <tr>\n",
              "      <th>1</th>\n",
              "      <td>335982</td>\n",
              "      <td>2007-08-01 00:00:00</td>\n",
              "      <td>18-04-2008</td>\n",
              "      <td>M Chinnaswamy Stadium</td>\n",
              "      <td>1</td>\n",
              "      <td>0.2</td>\n",
              "      <td>Kolkata Knight Riders</td>\n",
              "      <td>Royal Challengers Bangalore</td>\n",
              "      <td>BB McCullum</td>\n",
              "      <td>SC Ganguly</td>\n",
              "      <td>P Kumar</td>\n",
              "      <td>0</td>\n",
              "      <td>0</td>\n",
              "      <td>NaN</td>\n",
              "      <td>NaN</td>\n",
              "      <td>NaN</td>\n",
              "      <td>NaN</td>\n",
              "      <td>NaN</td>\n",
              "      <td>NaN</td>\n",
              "      <td>NaN</td>\n",
              "      <td>NaN</td>\n",
              "      <td>NaN</td>\n",
              "    </tr>\n",
              "    <tr>\n",
              "      <th>2</th>\n",
              "      <td>335982</td>\n",
              "      <td>2007-08-01 00:00:00</td>\n",
              "      <td>18-04-2008</td>\n",
              "      <td>M Chinnaswamy Stadium</td>\n",
              "      <td>1</td>\n",
              "      <td>0.3</td>\n",
              "      <td>Kolkata Knight Riders</td>\n",
              "      <td>Royal Challengers Bangalore</td>\n",
              "      <td>BB McCullum</td>\n",
              "      <td>SC Ganguly</td>\n",
              "      <td>P Kumar</td>\n",
              "      <td>0</td>\n",
              "      <td>1</td>\n",
              "      <td>1.0</td>\n",
              "      <td>NaN</td>\n",
              "      <td>NaN</td>\n",
              "      <td>NaN</td>\n",
              "      <td>NaN</td>\n",
              "      <td>NaN</td>\n",
              "      <td>NaN</td>\n",
              "      <td>NaN</td>\n",
              "      <td>NaN</td>\n",
              "    </tr>\n",
              "    <tr>\n",
              "      <th>3</th>\n",
              "      <td>335982</td>\n",
              "      <td>2007-08-01 00:00:00</td>\n",
              "      <td>18-04-2008</td>\n",
              "      <td>M Chinnaswamy Stadium</td>\n",
              "      <td>1</td>\n",
              "      <td>0.4</td>\n",
              "      <td>Kolkata Knight Riders</td>\n",
              "      <td>Royal Challengers Bangalore</td>\n",
              "      <td>BB McCullum</td>\n",
              "      <td>SC Ganguly</td>\n",
              "      <td>P Kumar</td>\n",
              "      <td>0</td>\n",
              "      <td>0</td>\n",
              "      <td>NaN</td>\n",
              "      <td>NaN</td>\n",
              "      <td>NaN</td>\n",
              "      <td>NaN</td>\n",
              "      <td>NaN</td>\n",
              "      <td>NaN</td>\n",
              "      <td>NaN</td>\n",
              "      <td>NaN</td>\n",
              "      <td>NaN</td>\n",
              "    </tr>\n",
              "    <tr>\n",
              "      <th>4</th>\n",
              "      <td>335982</td>\n",
              "      <td>2007-08-01 00:00:00</td>\n",
              "      <td>18-04-2008</td>\n",
              "      <td>M Chinnaswamy Stadium</td>\n",
              "      <td>1</td>\n",
              "      <td>0.5</td>\n",
              "      <td>Kolkata Knight Riders</td>\n",
              "      <td>Royal Challengers Bangalore</td>\n",
              "      <td>BB McCullum</td>\n",
              "      <td>SC Ganguly</td>\n",
              "      <td>P Kumar</td>\n",
              "      <td>0</td>\n",
              "      <td>0</td>\n",
              "      <td>NaN</td>\n",
              "      <td>NaN</td>\n",
              "      <td>NaN</td>\n",
              "      <td>NaN</td>\n",
              "      <td>NaN</td>\n",
              "      <td>NaN</td>\n",
              "      <td>NaN</td>\n",
              "      <td>NaN</td>\n",
              "      <td>NaN</td>\n",
              "    </tr>\n",
              "  </tbody>\n",
              "</table>\n",
              "</div>"
            ],
            "text/plain": [
              "   match_id               season  ... other_wicket_type other_player_dismissed\n",
              "0    335982  2007-08-01 00:00:00  ...               NaN                    NaN\n",
              "1    335982  2007-08-01 00:00:00  ...               NaN                    NaN\n",
              "2    335982  2007-08-01 00:00:00  ...               NaN                    NaN\n",
              "3    335982  2007-08-01 00:00:00  ...               NaN                    NaN\n",
              "4    335982  2007-08-01 00:00:00  ...               NaN                    NaN\n",
              "\n",
              "[5 rows x 22 columns]"
            ]
          },
          "metadata": {},
          "execution_count": 2
        }
      ]
    },
    {
      "cell_type": "code",
      "metadata": {
        "colab": {
          "base_uri": "https://localhost:8080/"
        },
        "id": "i2WO_Y3orN-4",
        "outputId": "ebd3a9ff-0ffe-432e-b08a-a9d7f1a50ef4"
      },
      "source": [
        "runs.shape"
      ],
      "execution_count": 8,
      "outputs": [
        {
          "output_type": "execute_result",
          "data": {
            "text/plain": [
              "(193617, 22)"
            ]
          },
          "metadata": {},
          "execution_count": 8
        }
      ]
    },
    {
      "cell_type": "code",
      "metadata": {
        "id": "Z_6xmJ_JJbmY"
      },
      "source": [
        "Taking only relevant data from balldata for analysis"
      ],
      "execution_count": null,
      "outputs": []
    },
    {
      "cell_type": "code",
      "metadata": {
        "colab": {
          "base_uri": "https://localhost:8080/",
          "height": 203
        },
        "id": "dL0I3kfQryNC",
        "outputId": "4cf63eef-b354-466f-cf8e-3c5a8190bafb"
      },
      "source": [
        "runs = runs[[\"match_id\", \"ball\", \"striker\",\"bowler\", \"runs_off_bat\", \"extras\" , \"wides\", \"noballs\", \"legbyes\", \"player_dismissed\"]]\n",
        "runs.head()"
      ],
      "execution_count": null,
      "outputs": [
        {
          "output_type": "execute_result",
          "data": {
            "text/html": [
              "<div>\n",
              "<style scoped>\n",
              "    .dataframe tbody tr th:only-of-type {\n",
              "        vertical-align: middle;\n",
              "    }\n",
              "\n",
              "    .dataframe tbody tr th {\n",
              "        vertical-align: top;\n",
              "    }\n",
              "\n",
              "    .dataframe thead th {\n",
              "        text-align: right;\n",
              "    }\n",
              "</style>\n",
              "<table border=\"1\" class=\"dataframe\">\n",
              "  <thead>\n",
              "    <tr style=\"text-align: right;\">\n",
              "      <th></th>\n",
              "      <th>match_id</th>\n",
              "      <th>ball</th>\n",
              "      <th>striker</th>\n",
              "      <th>bowler</th>\n",
              "      <th>runs_off_bat</th>\n",
              "      <th>extras</th>\n",
              "      <th>wides</th>\n",
              "      <th>noballs</th>\n",
              "      <th>legbyes</th>\n",
              "      <th>player_dismissed</th>\n",
              "    </tr>\n",
              "  </thead>\n",
              "  <tbody>\n",
              "    <tr>\n",
              "      <th>0</th>\n",
              "      <td>335982</td>\n",
              "      <td>0.1</td>\n",
              "      <td>SC Ganguly</td>\n",
              "      <td>P Kumar</td>\n",
              "      <td>0</td>\n",
              "      <td>1</td>\n",
              "      <td>NaN</td>\n",
              "      <td>NaN</td>\n",
              "      <td>1.0</td>\n",
              "      <td>NaN</td>\n",
              "    </tr>\n",
              "    <tr>\n",
              "      <th>1</th>\n",
              "      <td>335982</td>\n",
              "      <td>0.2</td>\n",
              "      <td>BB McCullum</td>\n",
              "      <td>P Kumar</td>\n",
              "      <td>0</td>\n",
              "      <td>0</td>\n",
              "      <td>NaN</td>\n",
              "      <td>NaN</td>\n",
              "      <td>NaN</td>\n",
              "      <td>NaN</td>\n",
              "    </tr>\n",
              "    <tr>\n",
              "      <th>2</th>\n",
              "      <td>335982</td>\n",
              "      <td>0.3</td>\n",
              "      <td>BB McCullum</td>\n",
              "      <td>P Kumar</td>\n",
              "      <td>0</td>\n",
              "      <td>1</td>\n",
              "      <td>1.0</td>\n",
              "      <td>NaN</td>\n",
              "      <td>NaN</td>\n",
              "      <td>NaN</td>\n",
              "    </tr>\n",
              "    <tr>\n",
              "      <th>3</th>\n",
              "      <td>335982</td>\n",
              "      <td>0.4</td>\n",
              "      <td>BB McCullum</td>\n",
              "      <td>P Kumar</td>\n",
              "      <td>0</td>\n",
              "      <td>0</td>\n",
              "      <td>NaN</td>\n",
              "      <td>NaN</td>\n",
              "      <td>NaN</td>\n",
              "      <td>NaN</td>\n",
              "    </tr>\n",
              "    <tr>\n",
              "      <th>4</th>\n",
              "      <td>335982</td>\n",
              "      <td>0.5</td>\n",
              "      <td>BB McCullum</td>\n",
              "      <td>P Kumar</td>\n",
              "      <td>0</td>\n",
              "      <td>0</td>\n",
              "      <td>NaN</td>\n",
              "      <td>NaN</td>\n",
              "      <td>NaN</td>\n",
              "      <td>NaN</td>\n",
              "    </tr>\n",
              "  </tbody>\n",
              "</table>\n",
              "</div>"
            ],
            "text/plain": [
              "   match_id  ball      striker  ... noballs  legbyes  player_dismissed\n",
              "0    335982   0.1   SC Ganguly  ...     NaN      1.0               NaN\n",
              "1    335982   0.2  BB McCullum  ...     NaN      NaN               NaN\n",
              "2    335982   0.3  BB McCullum  ...     NaN      NaN               NaN\n",
              "3    335982   0.4  BB McCullum  ...     NaN      NaN               NaN\n",
              "4    335982   0.5  BB McCullum  ...     NaN      NaN               NaN\n",
              "\n",
              "[5 rows x 10 columns]"
            ]
          },
          "metadata": {},
          "execution_count": 7
        }
      ]
    },
    {
      "cell_type": "code",
      "metadata": {
        "colab": {
          "base_uri": "https://localhost:8080/"
        },
        "id": "ohGQioUbsC3e",
        "outputId": "9929610b-3baf-4d35-a97f-eb58c5fd9c09"
      },
      "source": [
        "runs.isnull().sum()"
      ],
      "execution_count": null,
      "outputs": [
        {
          "output_type": "execute_result",
          "data": {
            "text/plain": [
              "match_id                 0\n",
              "ball                     0\n",
              "striker                  0\n",
              "bowler                   0\n",
              "runs_off_bat             0\n",
              "extras                   0\n",
              "wides               187753\n",
              "noballs             192848\n",
              "legbyes             190506\n",
              "player_dismissed    184095\n",
              "dtype: int64"
            ]
          },
          "metadata": {},
          "execution_count": 8
        }
      ]
    },
    {
      "cell_type": "code",
      "metadata": {
        "id": "-1Lh8jEwsEqV"
      },
      "source": [
        "runs[\"noballs\"] = runs[\"noballs\"].fillna(0)\n",
        "runs[\"legbyes\"] = runs[\"legbyes\"].fillna(0)\n",
        "runs[\"wides\"] = runs[\"wides\"].fillna(0)\n",
        "runs[\"player_dismissed\"] = runs[\"player_dismissed\"].fillna(0)"
      ],
      "execution_count": null,
      "outputs": []
    },
    {
      "cell_type": "code",
      "metadata": {
        "colab": {
          "base_uri": "https://localhost:8080/"
        },
        "id": "twSQGbxXsJjq",
        "outputId": "f28a6775-3f18-4928-981b-bd99beedcee2"
      },
      "source": [
        "runs.isnull().sum()"
      ],
      "execution_count": null,
      "outputs": [
        {
          "output_type": "execute_result",
          "data": {
            "text/plain": [
              "match_id            0\n",
              "ball                0\n",
              "striker             0\n",
              "bowler              0\n",
              "runs_off_bat        0\n",
              "extras              0\n",
              "wides               0\n",
              "noballs             0\n",
              "legbyes             0\n",
              "player_dismissed    0\n",
              "dtype: int64"
            ]
          },
          "metadata": {},
          "execution_count": 10
        }
      ]
    },
    {
      "cell_type": "code",
      "metadata": {
        "id": "TjeHetIIU0-m"
      },
      "source": [
        "        Creation of Batsmen dataset and calculation of their strike rate\n",
        "To analyse the strike rate of a bastman, we need \"runs\" scored by him and the \"number of balls\" he faced.\n",
        "The strike rate for the batsman can be calculated from these two values."
      ],
      "execution_count": null,
      "outputs": []
    },
    {
      "cell_type": "code",
      "metadata": {
        "id": "OjVnmFbPsLJe"
      },
      "source": [
        "A = []\n",
        "B = []\n",
        "C = []\n",
        "for i in runs[\"striker\"].unique():\n",
        " a = runs[\"runs_off_bat\"][runs[\"striker\"] == i].sum() #sum of runs scored by the player\n",
        " balls =  runs[\"match_id\"][runs['striker']== i].count() - runs['noballs'][runs[\"striker\"]== i].sum() - runs['wides'][runs[\"striker\"]== i].sum()\n",
        " out = runs[\"match_id\"][runs['player_dismissed']== i].count()\n",
        "# The strike rate for the batsman can be calculated from these two values.\n",
        " A.append(a)\n",
        " B.append(balls)\n",
        " C.append(out)"
      ],
      "execution_count": null,
      "outputs": []
    },
    {
      "cell_type": "code",
      "metadata": {
        "colab": {
          "base_uri": "https://localhost:8080/",
          "height": 357
        },
        "id": "1foyT1WislFo",
        "outputId": "c7089c3a-f2b8-4918-cb79-bb220ac7f412"
      },
      "source": [
        "Batsmen = pd.DataFrame({\"Player_names\": runs[\"striker\"].unique()})\n",
        "Batsmen[\"Runs\"] = A\n",
        "Batsmen[\"Balls_played\"] = B\n",
        "Batsmen[\"Out\"] = C\n",
        "Batsmen.head(10)"
      ],
      "execution_count": null,
      "outputs": [
        {
          "output_type": "execute_result",
          "data": {
            "text/html": [
              "<div>\n",
              "<style scoped>\n",
              "    .dataframe tbody tr th:only-of-type {\n",
              "        vertical-align: middle;\n",
              "    }\n",
              "\n",
              "    .dataframe tbody tr th {\n",
              "        vertical-align: top;\n",
              "    }\n",
              "\n",
              "    .dataframe thead th {\n",
              "        text-align: right;\n",
              "    }\n",
              "</style>\n",
              "<table border=\"1\" class=\"dataframe\">\n",
              "  <thead>\n",
              "    <tr style=\"text-align: right;\">\n",
              "      <th></th>\n",
              "      <th>Player_names</th>\n",
              "      <th>Runs</th>\n",
              "      <th>Balls_played</th>\n",
              "      <th>Out</th>\n",
              "    </tr>\n",
              "  </thead>\n",
              "  <tbody>\n",
              "    <tr>\n",
              "      <th>0</th>\n",
              "      <td>SC Ganguly</td>\n",
              "      <td>1349</td>\n",
              "      <td>1243.0</td>\n",
              "      <td>53</td>\n",
              "    </tr>\n",
              "    <tr>\n",
              "      <th>1</th>\n",
              "      <td>BB McCullum</td>\n",
              "      <td>2882</td>\n",
              "      <td>2118.0</td>\n",
              "      <td>104</td>\n",
              "    </tr>\n",
              "    <tr>\n",
              "      <th>2</th>\n",
              "      <td>RT Ponting</td>\n",
              "      <td>91</td>\n",
              "      <td>127.0</td>\n",
              "      <td>9</td>\n",
              "    </tr>\n",
              "    <tr>\n",
              "      <th>3</th>\n",
              "      <td>DJ Hussey</td>\n",
              "      <td>1322</td>\n",
              "      <td>1063.0</td>\n",
              "      <td>49</td>\n",
              "    </tr>\n",
              "    <tr>\n",
              "      <th>4</th>\n",
              "      <td>Mohammad Hafeez</td>\n",
              "      <td>64</td>\n",
              "      <td>83.0</td>\n",
              "      <td>7</td>\n",
              "    </tr>\n",
              "    <tr>\n",
              "      <th>5</th>\n",
              "      <td>R Dravid</td>\n",
              "      <td>2174</td>\n",
              "      <td>1865.0</td>\n",
              "      <td>77</td>\n",
              "    </tr>\n",
              "    <tr>\n",
              "      <th>6</th>\n",
              "      <td>W Jaffer</td>\n",
              "      <td>130</td>\n",
              "      <td>121.0</td>\n",
              "      <td>8</td>\n",
              "    </tr>\n",
              "    <tr>\n",
              "      <th>7</th>\n",
              "      <td>V Kohli</td>\n",
              "      <td>5888</td>\n",
              "      <td>4462.0</td>\n",
              "      <td>154</td>\n",
              "    </tr>\n",
              "    <tr>\n",
              "      <th>8</th>\n",
              "      <td>JH Kallis</td>\n",
              "      <td>2427</td>\n",
              "      <td>2195.0</td>\n",
              "      <td>85</td>\n",
              "    </tr>\n",
              "    <tr>\n",
              "      <th>9</th>\n",
              "      <td>CL White</td>\n",
              "      <td>971</td>\n",
              "      <td>757.0</td>\n",
              "      <td>36</td>\n",
              "    </tr>\n",
              "  </tbody>\n",
              "</table>\n",
              "</div>"
            ],
            "text/plain": [
              "      Player_names  Runs  Balls_played  Out\n",
              "0       SC Ganguly  1349        1243.0   53\n",
              "1      BB McCullum  2882        2118.0  104\n",
              "2       RT Ponting    91         127.0    9\n",
              "3        DJ Hussey  1322        1063.0   49\n",
              "4  Mohammad Hafeez    64          83.0    7\n",
              "5         R Dravid  2174        1865.0   77\n",
              "6         W Jaffer   130         121.0    8\n",
              "7          V Kohli  5888        4462.0  154\n",
              "8        JH Kallis  2427        2195.0   85\n",
              "9         CL White   971         757.0   36"
            ]
          },
          "metadata": {},
          "execution_count": 14
        }
      ]
    },
    {
      "cell_type": "code",
      "metadata": {
        "colab": {
          "base_uri": "https://localhost:8080/",
          "height": 203
        },
        "id": "LxA7QfX5tAdO",
        "outputId": "01829a15-bd6e-4803-c0ef-449047eaf52b"
      },
      "source": [
        "Batsmen = Batsmen[Batsmen[\"Balls_played\"] > 300]\n",
        "Batsmen.head()"
      ],
      "execution_count": null,
      "outputs": [
        {
          "output_type": "execute_result",
          "data": {
            "text/html": [
              "<div>\n",
              "<style scoped>\n",
              "    .dataframe tbody tr th:only-of-type {\n",
              "        vertical-align: middle;\n",
              "    }\n",
              "\n",
              "    .dataframe tbody tr th {\n",
              "        vertical-align: top;\n",
              "    }\n",
              "\n",
              "    .dataframe thead th {\n",
              "        text-align: right;\n",
              "    }\n",
              "</style>\n",
              "<table border=\"1\" class=\"dataframe\">\n",
              "  <thead>\n",
              "    <tr style=\"text-align: right;\">\n",
              "      <th></th>\n",
              "      <th>Player_names</th>\n",
              "      <th>Runs</th>\n",
              "      <th>Balls_played</th>\n",
              "      <th>Out</th>\n",
              "    </tr>\n",
              "  </thead>\n",
              "  <tbody>\n",
              "    <tr>\n",
              "      <th>0</th>\n",
              "      <td>SC Ganguly</td>\n",
              "      <td>1349</td>\n",
              "      <td>1243.0</td>\n",
              "      <td>53</td>\n",
              "    </tr>\n",
              "    <tr>\n",
              "      <th>1</th>\n",
              "      <td>BB McCullum</td>\n",
              "      <td>2882</td>\n",
              "      <td>2118.0</td>\n",
              "      <td>104</td>\n",
              "    </tr>\n",
              "    <tr>\n",
              "      <th>3</th>\n",
              "      <td>DJ Hussey</td>\n",
              "      <td>1322</td>\n",
              "      <td>1063.0</td>\n",
              "      <td>49</td>\n",
              "    </tr>\n",
              "    <tr>\n",
              "      <th>5</th>\n",
              "      <td>R Dravid</td>\n",
              "      <td>2174</td>\n",
              "      <td>1865.0</td>\n",
              "      <td>77</td>\n",
              "    </tr>\n",
              "    <tr>\n",
              "      <th>7</th>\n",
              "      <td>V Kohli</td>\n",
              "      <td>5888</td>\n",
              "      <td>4462.0</td>\n",
              "      <td>154</td>\n",
              "    </tr>\n",
              "  </tbody>\n",
              "</table>\n",
              "</div>"
            ],
            "text/plain": [
              "  Player_names  Runs  Balls_played  Out\n",
              "0   SC Ganguly  1349        1243.0   53\n",
              "1  BB McCullum  2882        2118.0  104\n",
              "3    DJ Hussey  1322        1063.0   49\n",
              "5     R Dravid  2174        1865.0   77\n",
              "7      V Kohli  5888        4462.0  154"
            ]
          },
          "metadata": {},
          "execution_count": 15
        }
      ]
    },
    {
      "cell_type": "code",
      "metadata": {
        "colab": {
          "base_uri": "https://localhost:8080/",
          "height": 511
        },
        "id": "zYG8lPRutE9x",
        "outputId": "643693fc-8223-4559-afc0-25aa7712579f"
      },
      "source": [
        "Batsmen.sample(15)"
      ],
      "execution_count": null,
      "outputs": [
        {
          "output_type": "execute_result",
          "data": {
            "text/html": [
              "<div>\n",
              "<style scoped>\n",
              "    .dataframe tbody tr th:only-of-type {\n",
              "        vertical-align: middle;\n",
              "    }\n",
              "\n",
              "    .dataframe tbody tr th {\n",
              "        vertical-align: top;\n",
              "    }\n",
              "\n",
              "    .dataframe thead th {\n",
              "        text-align: right;\n",
              "    }\n",
              "</style>\n",
              "<table border=\"1\" class=\"dataframe\">\n",
              "  <thead>\n",
              "    <tr style=\"text-align: right;\">\n",
              "      <th></th>\n",
              "      <th>Player_names</th>\n",
              "      <th>Runs</th>\n",
              "      <th>Balls_played</th>\n",
              "      <th>Out</th>\n",
              "    </tr>\n",
              "  </thead>\n",
              "  <tbody>\n",
              "    <tr>\n",
              "      <th>53</th>\n",
              "      <td>LR Shukla</td>\n",
              "      <td>405</td>\n",
              "      <td>346.0</td>\n",
              "      <td>27</td>\n",
              "    </tr>\n",
              "    <tr>\n",
              "      <th>201</th>\n",
              "      <td>R Ashwin</td>\n",
              "      <td>412</td>\n",
              "      <td>373.0</td>\n",
              "      <td>38</td>\n",
              "    </tr>\n",
              "    <tr>\n",
              "      <th>203</th>\n",
              "      <td>CA Pujara</td>\n",
              "      <td>390</td>\n",
              "      <td>384.0</td>\n",
              "      <td>19</td>\n",
              "    </tr>\n",
              "    <tr>\n",
              "      <th>167</th>\n",
              "      <td>PC Valthaty</td>\n",
              "      <td>505</td>\n",
              "      <td>413.0</td>\n",
              "      <td>22</td>\n",
              "    </tr>\n",
              "    <tr>\n",
              "      <th>431</th>\n",
              "      <td>N Rana</td>\n",
              "      <td>1437</td>\n",
              "      <td>1055.0</td>\n",
              "      <td>52</td>\n",
              "    </tr>\n",
              "    <tr>\n",
              "      <th>354</th>\n",
              "      <td>KL Rahul</td>\n",
              "      <td>2653</td>\n",
              "      <td>1941.0</td>\n",
              "      <td>61</td>\n",
              "    </tr>\n",
              "    <tr>\n",
              "      <th>17</th>\n",
              "      <td>ML Hayden</td>\n",
              "      <td>1107</td>\n",
              "      <td>781.0</td>\n",
              "      <td>31</td>\n",
              "    </tr>\n",
              "    <tr>\n",
              "      <th>192</th>\n",
              "      <td>J Botha</td>\n",
              "      <td>409</td>\n",
              "      <td>358.0</td>\n",
              "      <td>20</td>\n",
              "    </tr>\n",
              "    <tr>\n",
              "      <th>413</th>\n",
              "      <td>KH Pandya</td>\n",
              "      <td>1000</td>\n",
              "      <td>699.0</td>\n",
              "      <td>41</td>\n",
              "    </tr>\n",
              "    <tr>\n",
              "      <th>254</th>\n",
              "      <td>AJ Finch</td>\n",
              "      <td>2006</td>\n",
              "      <td>1557.0</td>\n",
              "      <td>79</td>\n",
              "    </tr>\n",
              "    <tr>\n",
              "      <th>20</th>\n",
              "      <td>SK Raina</td>\n",
              "      <td>5376</td>\n",
              "      <td>3876.0</td>\n",
              "      <td>162</td>\n",
              "    </tr>\n",
              "    <tr>\n",
              "      <th>106</th>\n",
              "      <td>SE Marsh</td>\n",
              "      <td>2489</td>\n",
              "      <td>1858.0</td>\n",
              "      <td>63</td>\n",
              "    </tr>\n",
              "    <tr>\n",
              "      <th>161</th>\n",
              "      <td>RS Bopara</td>\n",
              "      <td>531</td>\n",
              "      <td>449.0</td>\n",
              "      <td>18</td>\n",
              "    </tr>\n",
              "    <tr>\n",
              "      <th>129</th>\n",
              "      <td>DB Ravi Teja</td>\n",
              "      <td>375</td>\n",
              "      <td>314.0</td>\n",
              "      <td>19</td>\n",
              "    </tr>\n",
              "    <tr>\n",
              "      <th>280</th>\n",
              "      <td>NLTC Perera</td>\n",
              "      <td>424</td>\n",
              "      <td>306.0</td>\n",
              "      <td>22</td>\n",
              "    </tr>\n",
              "  </tbody>\n",
              "</table>\n",
              "</div>"
            ],
            "text/plain": [
              "     Player_names  Runs  Balls_played  Out\n",
              "53      LR Shukla   405         346.0   27\n",
              "201      R Ashwin   412         373.0   38\n",
              "203     CA Pujara   390         384.0   19\n",
              "167   PC Valthaty   505         413.0   22\n",
              "431        N Rana  1437        1055.0   52\n",
              "354      KL Rahul  2653        1941.0   61\n",
              "17      ML Hayden  1107         781.0   31\n",
              "192       J Botha   409         358.0   20\n",
              "413     KH Pandya  1000         699.0   41\n",
              "254      AJ Finch  2006        1557.0   79\n",
              "20       SK Raina  5376        3876.0  162\n",
              "106      SE Marsh  2489        1858.0   63\n",
              "161     RS Bopara   531         449.0   18\n",
              "129  DB Ravi Teja   375         314.0   19\n",
              "280   NLTC Perera   424         306.0   22"
            ]
          },
          "metadata": {},
          "execution_count": 16
        }
      ]
    },
    {
      "cell_type": "code",
      "metadata": {
        "id": "ewXLqp8WtIWE"
      },
      "source": [
        "Since we have to assess batsmen, the players with very low strike rates are not required to be considered as they tend to bat very few times and are usually bowlers/fielders."
      ],
      "execution_count": null,
      "outputs": []
    },
    {
      "cell_type": "code",
      "metadata": {
        "colab": {
          "base_uri": "https://localhost:8080/",
          "height": 357
        },
        "id": "yDn6tdtCtc8b",
        "outputId": "8191fa4a-6227-4d97-cc22-95d20b9d71ca"
      },
      "source": [
        "Batsmen[\"Strike_Rate\"] = (Batsmen[\"Runs\"] * 100 / Batsmen[\"Balls_played\"]).round(2)\n",
        "Batsmen[\"Average\"] = (Batsmen[\"Runs\"] / Batsmen[\"Out\"]).round(2)\n",
        "Batsmen.head(10)"
      ],
      "execution_count": null,
      "outputs": [
        {
          "output_type": "execute_result",
          "data": {
            "text/html": [
              "<div>\n",
              "<style scoped>\n",
              "    .dataframe tbody tr th:only-of-type {\n",
              "        vertical-align: middle;\n",
              "    }\n",
              "\n",
              "    .dataframe tbody tr th {\n",
              "        vertical-align: top;\n",
              "    }\n",
              "\n",
              "    .dataframe thead th {\n",
              "        text-align: right;\n",
              "    }\n",
              "</style>\n",
              "<table border=\"1\" class=\"dataframe\">\n",
              "  <thead>\n",
              "    <tr style=\"text-align: right;\">\n",
              "      <th></th>\n",
              "      <th>Player_names</th>\n",
              "      <th>Runs</th>\n",
              "      <th>Balls_played</th>\n",
              "      <th>Out</th>\n",
              "      <th>Strike_Rate</th>\n",
              "      <th>Average</th>\n",
              "    </tr>\n",
              "  </thead>\n",
              "  <tbody>\n",
              "    <tr>\n",
              "      <th>0</th>\n",
              "      <td>SC Ganguly</td>\n",
              "      <td>1349</td>\n",
              "      <td>1243.0</td>\n",
              "      <td>53</td>\n",
              "      <td>108.53</td>\n",
              "      <td>25.45</td>\n",
              "    </tr>\n",
              "    <tr>\n",
              "      <th>1</th>\n",
              "      <td>BB McCullum</td>\n",
              "      <td>2882</td>\n",
              "      <td>2118.0</td>\n",
              "      <td>104</td>\n",
              "      <td>136.07</td>\n",
              "      <td>27.71</td>\n",
              "    </tr>\n",
              "    <tr>\n",
              "      <th>3</th>\n",
              "      <td>DJ Hussey</td>\n",
              "      <td>1322</td>\n",
              "      <td>1063.0</td>\n",
              "      <td>49</td>\n",
              "      <td>124.37</td>\n",
              "      <td>26.98</td>\n",
              "    </tr>\n",
              "    <tr>\n",
              "      <th>5</th>\n",
              "      <td>R Dravid</td>\n",
              "      <td>2174</td>\n",
              "      <td>1865.0</td>\n",
              "      <td>77</td>\n",
              "      <td>116.57</td>\n",
              "      <td>28.23</td>\n",
              "    </tr>\n",
              "    <tr>\n",
              "      <th>7</th>\n",
              "      <td>V Kohli</td>\n",
              "      <td>5888</td>\n",
              "      <td>4462.0</td>\n",
              "      <td>154</td>\n",
              "      <td>131.96</td>\n",
              "      <td>38.23</td>\n",
              "    </tr>\n",
              "    <tr>\n",
              "      <th>8</th>\n",
              "      <td>JH Kallis</td>\n",
              "      <td>2427</td>\n",
              "      <td>2195.0</td>\n",
              "      <td>85</td>\n",
              "      <td>110.57</td>\n",
              "      <td>28.55</td>\n",
              "    </tr>\n",
              "    <tr>\n",
              "      <th>9</th>\n",
              "      <td>CL White</td>\n",
              "      <td>971</td>\n",
              "      <td>757.0</td>\n",
              "      <td>36</td>\n",
              "      <td>128.27</td>\n",
              "      <td>26.97</td>\n",
              "    </tr>\n",
              "    <tr>\n",
              "      <th>10</th>\n",
              "      <td>MV Boucher</td>\n",
              "      <td>394</td>\n",
              "      <td>307.0</td>\n",
              "      <td>14</td>\n",
              "      <td>128.34</td>\n",
              "      <td>28.14</td>\n",
              "    </tr>\n",
              "    <tr>\n",
              "      <th>13</th>\n",
              "      <td>P Kumar</td>\n",
              "      <td>340</td>\n",
              "      <td>307.0</td>\n",
              "      <td>38</td>\n",
              "      <td>110.75</td>\n",
              "      <td>8.95</td>\n",
              "    </tr>\n",
              "    <tr>\n",
              "      <th>16</th>\n",
              "      <td>PA Patel</td>\n",
              "      <td>2848</td>\n",
              "      <td>2336.0</td>\n",
              "      <td>126</td>\n",
              "      <td>121.92</td>\n",
              "      <td>22.60</td>\n",
              "    </tr>\n",
              "  </tbody>\n",
              "</table>\n",
              "</div>"
            ],
            "text/plain": [
              "   Player_names  Runs  Balls_played  Out  Strike_Rate  Average\n",
              "0    SC Ganguly  1349        1243.0   53       108.53    25.45\n",
              "1   BB McCullum  2882        2118.0  104       136.07    27.71\n",
              "3     DJ Hussey  1322        1063.0   49       124.37    26.98\n",
              "5      R Dravid  2174        1865.0   77       116.57    28.23\n",
              "7       V Kohli  5888        4462.0  154       131.96    38.23\n",
              "8     JH Kallis  2427        2195.0   85       110.57    28.55\n",
              "9      CL White   971         757.0   36       128.27    26.97\n",
              "10   MV Boucher   394         307.0   14       128.34    28.14\n",
              "13      P Kumar   340         307.0   38       110.75     8.95\n",
              "16     PA Patel  2848        2336.0  126       121.92    22.60"
            ]
          },
          "metadata": {},
          "execution_count": 17
        }
      ]
    },
    {
      "cell_type": "code",
      "metadata": {
        "id": "AYtCzCDvtvbG"
      },
      "source": [
        "Checking the distribution of batsmen by plotting in a histogram\n",
        " x axis is the strike rate y axis is the number of players"
      ],
      "execution_count": null,
      "outputs": []
    },
    {
      "cell_type": "code",
      "metadata": {
        "colab": {
          "base_uri": "https://localhost:8080/",
          "height": 282
        },
        "id": "Yxt8JQdMt6uc",
        "outputId": "1bdb7af1-7d5b-43b3-dc74-d2327c4aa464"
      },
      "source": [
        "Batsmen[\"Strike_Rate\"].hist(color=\"green\")"
      ],
      "execution_count": null,
      "outputs": [
        {
          "output_type": "execute_result",
          "data": {
            "text/plain": [
              "<matplotlib.axes._subplots.AxesSubplot at 0x7f2392339ed0>"
            ]
          },
          "metadata": {},
          "execution_count": 19
        },
        {
          "output_type": "display_data",
          "data": {
            "image/png": "[encoded data removed]",
            "text/plain": [
              "<Figure size 432x288 with 1 Axes>"
            ]
          },
          "metadata": {
            "needs_background": "light"
          }
        }
      ]
    },
    {
      "cell_type": "code",
      "metadata": {
        "colab": {
          "base_uri": "https://localhost:8080/",
          "height": 282
        },
        "id": "UrmTYBRnuBIm",
        "outputId": "42f939b8-ce34-4dbe-c20c-03305ee36667"
      },
      "source": [
        "Batsmen[\"Average\"].hist(color=\"blue\")"
      ],
      "execution_count": null,
      "outputs": [
        {
          "output_type": "execute_result",
          "data": {
            "text/plain": [
              "<matplotlib.axes._subplots.AxesSubplot at 0x7f2388ac7f90>"
            ]
          },
          "metadata": {},
          "execution_count": 20
        },
        {
          "output_type": "display_data",
          "data": {
            "image/png": "[encoded data removed]",
            "text/plain": [
              "<Figure size 432x288 with 1 Axes>"
            ]
          },
          "metadata": {
            "needs_background": "light"
          }
        }
      ]
    },
    {
      "cell_type": "code",
      "metadata": {
        "id": "MVfF8_L_uWch"
      },
      "source": [
        "Applying Kmeans Algorithm to the batsmen dataset\n",
        "Batsman cluster - strike rate"
      ],
      "execution_count": null,
      "outputs": []
    },
    {
      "cell_type": "code",
      "metadata": {
        "colab": {
          "base_uri": "https://localhost:8080/",
          "height": 410
        },
        "id": "vXN8HI6Eua5g",
        "outputId": "70c5ee13-204b-4302-85ce-2ad80c88adc1"
      },
      "source": [
        "sns.set_style(\"whitegrid\")\n",
        "fig = plt.figure(figsize=(12,6))\n",
        "plt.scatter(Batsmen[\"Strike_Rate\"], Batsmen[\"Runs\"], color=\"blue\")\n",
        "plt.xlabel(\"Strike Rate of the Batsmen\", fontsize=14)\n",
        "plt.ylabel(\"Runs scored by the Batsmen\", fontsize=14)\n",
        "plt.title(\"IPL Batsmen\", fontsize=16)\n",
        "plt.show()"
      ],
      "execution_count": null,
      "outputs": [
        {
          "output_type": "display_data",
          "data": {
            "image/png": "[encoded data removed]",
            "text/plain": [
              "<Figure size 864x432 with 1 Axes>"
            ]
          },
          "metadata": {}
        }
      ]
    },
    {
      "cell_type": "code",
      "metadata": {
        "id": "JFFoxb-rusBR"
      },
      "source": [
        "The distribution of the Batsmen appears to be in largely five clusters: \n",
        "under 500 runs  \n",
        "highest density of dots 500 - 1000 runs\n",
        "1000 - 2000 runs \n",
        "2000 - 3000 runs \n",
        "above 3000 runs"
      ],
      "execution_count": null,
      "outputs": []
    },
    {
      "cell_type": "code",
      "metadata": {
        "colab": {
          "base_uri": "https://localhost:8080/",
          "height": 410
        },
        "id": "oiYwpqQnu1mF",
        "outputId": "5983530f-9f24-49f2-a9a6-2598f9126709"
      },
      "source": [
        "kmeans = KMeans(n_clusters=5)\n",
        "kmeans.fit(Batsmen[[\"Strike_Rate\", \"Runs\"]])\n",
        "Batsmen[\"cluster\"] = kmeans.labels_\n",
        "\n",
        "fig = plt.figure(figsize=(12,6))\n",
        "\n",
        "colors = [\"blue\", \"black\", \"limegreen\", \"red\", \"yellow\"]\n",
        "\n",
        "for r in range(1,5):\n",
        "    clustered_Batsmen = Batsmen[Batsmen[\"cluster\"] == r]\n",
        "    plt.scatter(clustered_Batsmen[\"Strike_Rate\"], clustered_Batsmen[\"Runs\"], color=colors[r])\n",
        "    \n",
        "plt.title(\"IPL Batsmen\", fontsize=16)\n",
        "plt.xlabel(\"Strike Rate of the Batsmen\", fontsize=14)\n",
        "plt.ylabel(\"Runs scored by the Batsmen\", fontsize=14)\n",
        "    \n",
        "plt.show()"
      ],
      "execution_count": null,
      "outputs": [
        {
          "output_type": "display_data",
          "data": {
            "image/png": "[encoded data removed]",
            "text/plain": [
              "<Figure size 864x432 with 1 Axes>"
            ]
          },
          "metadata": {}
        }
      ]
    },
    {
      "cell_type": "code",
      "metadata": {
        "colab": {
          "base_uri": "https://localhost:8080/",
          "height": 511
        },
        "id": "PY5UWk2UvisK",
        "outputId": "a7eee9d4-f31f-45bd-d42e-be72029e48af"
      },
      "source": [
        "Batsmen.sample(15)"
      ],
      "execution_count": null,
      "outputs": [
        {
          "output_type": "execute_result",
          "data": {
            "text/html": [
              "<div>\n",
              "<style scoped>\n",
              "    .dataframe tbody tr th:only-of-type {\n",
              "        vertical-align: middle;\n",
              "    }\n",
              "\n",
              "    .dataframe tbody tr th {\n",
              "        vertical-align: top;\n",
              "    }\n",
              "\n",
              "    .dataframe thead th {\n",
              "        text-align: right;\n",
              "    }\n",
              "</style>\n",
              "<table border=\"1\" class=\"dataframe\">\n",
              "  <thead>\n",
              "    <tr style=\"text-align: right;\">\n",
              "      <th></th>\n",
              "      <th>Player_names</th>\n",
              "      <th>Runs</th>\n",
              "      <th>Balls_played</th>\n",
              "      <th>Out</th>\n",
              "      <th>Strike_Rate</th>\n",
              "      <th>Average</th>\n",
              "      <th>cluster</th>\n",
              "    </tr>\n",
              "  </thead>\n",
              "  <tbody>\n",
              "    <tr>\n",
              "      <th>71</th>\n",
              "      <td>DJ Bravo</td>\n",
              "      <td>1490</td>\n",
              "      <td>1153.0</td>\n",
              "      <td>66</td>\n",
              "      <td>129.23</td>\n",
              "      <td>22.58</td>\n",
              "      <td>4</td>\n",
              "    </tr>\n",
              "    <tr>\n",
              "      <th>204</th>\n",
              "      <td>OA Shah</td>\n",
              "      <td>506</td>\n",
              "      <td>376.0</td>\n",
              "      <td>15</td>\n",
              "      <td>134.57</td>\n",
              "      <td>33.73</td>\n",
              "      <td>1</td>\n",
              "    </tr>\n",
              "    <tr>\n",
              "      <th>201</th>\n",
              "      <td>R Ashwin</td>\n",
              "      <td>412</td>\n",
              "      <td>373.0</td>\n",
              "      <td>38</td>\n",
              "      <td>110.46</td>\n",
              "      <td>10.84</td>\n",
              "      <td>1</td>\n",
              "    </tr>\n",
              "    <tr>\n",
              "      <th>103</th>\n",
              "      <td>HH Gibbs</td>\n",
              "      <td>886</td>\n",
              "      <td>797.0</td>\n",
              "      <td>32</td>\n",
              "      <td>111.17</td>\n",
              "      <td>27.69</td>\n",
              "      <td>1</td>\n",
              "    </tr>\n",
              "    <tr>\n",
              "      <th>129</th>\n",
              "      <td>DB Ravi Teja</td>\n",
              "      <td>375</td>\n",
              "      <td>314.0</td>\n",
              "      <td>19</td>\n",
              "      <td>119.43</td>\n",
              "      <td>19.74</td>\n",
              "      <td>1</td>\n",
              "    </tr>\n",
              "    <tr>\n",
              "      <th>64</th>\n",
              "      <td>DPMD Jayawardene</td>\n",
              "      <td>1808</td>\n",
              "      <td>1436.0</td>\n",
              "      <td>64</td>\n",
              "      <td>125.91</td>\n",
              "      <td>28.25</td>\n",
              "      <td>4</td>\n",
              "    </tr>\n",
              "    <tr>\n",
              "      <th>207</th>\n",
              "      <td>MS Bisla</td>\n",
              "      <td>798</td>\n",
              "      <td>680.0</td>\n",
              "      <td>38</td>\n",
              "      <td>117.35</td>\n",
              "      <td>21.00</td>\n",
              "      <td>1</td>\n",
              "    </tr>\n",
              "    <tr>\n",
              "      <th>351</th>\n",
              "      <td>SV Samson</td>\n",
              "      <td>2584</td>\n",
              "      <td>1922.0</td>\n",
              "      <td>93</td>\n",
              "      <td>134.44</td>\n",
              "      <td>27.78</td>\n",
              "      <td>2</td>\n",
              "    </tr>\n",
              "    <tr>\n",
              "      <th>30</th>\n",
              "      <td>YK Pathan</td>\n",
              "      <td>3222</td>\n",
              "      <td>2220.0</td>\n",
              "      <td>110</td>\n",
              "      <td>145.14</td>\n",
              "      <td>29.29</td>\n",
              "      <td>0</td>\n",
              "    </tr>\n",
              "    <tr>\n",
              "      <th>42</th>\n",
              "      <td>AC Gilchrist</td>\n",
              "      <td>2069</td>\n",
              "      <td>1473.0</td>\n",
              "      <td>76</td>\n",
              "      <td>140.46</td>\n",
              "      <td>27.22</td>\n",
              "      <td>2</td>\n",
              "    </tr>\n",
              "    <tr>\n",
              "      <th>394</th>\n",
              "      <td>HH Pandya</td>\n",
              "      <td>1358</td>\n",
              "      <td>830.0</td>\n",
              "      <td>46</td>\n",
              "      <td>163.61</td>\n",
              "      <td>29.52</td>\n",
              "      <td>4</td>\n",
              "    </tr>\n",
              "    <tr>\n",
              "      <th>110</th>\n",
              "      <td>AB de Villiers</td>\n",
              "      <td>4868</td>\n",
              "      <td>3175.0</td>\n",
              "      <td>120</td>\n",
              "      <td>153.32</td>\n",
              "      <td>40.57</td>\n",
              "      <td>3</td>\n",
              "    </tr>\n",
              "    <tr>\n",
              "      <th>161</th>\n",
              "      <td>RS Bopara</td>\n",
              "      <td>531</td>\n",
              "      <td>449.0</td>\n",
              "      <td>18</td>\n",
              "      <td>118.26</td>\n",
              "      <td>29.50</td>\n",
              "      <td>1</td>\n",
              "    </tr>\n",
              "    <tr>\n",
              "      <th>320</th>\n",
              "      <td>DA Miller</td>\n",
              "      <td>1850</td>\n",
              "      <td>1318.0</td>\n",
              "      <td>56</td>\n",
              "      <td>140.36</td>\n",
              "      <td>33.04</td>\n",
              "      <td>4</td>\n",
              "    </tr>\n",
              "    <tr>\n",
              "      <th>45</th>\n",
              "      <td>A Symonds</td>\n",
              "      <td>974</td>\n",
              "      <td>741.0</td>\n",
              "      <td>27</td>\n",
              "      <td>131.44</td>\n",
              "      <td>36.07</td>\n",
              "      <td>1</td>\n",
              "    </tr>\n",
              "  </tbody>\n",
              "</table>\n",
              "</div>"
            ],
            "text/plain": [
              "         Player_names  Runs  Balls_played  Out  Strike_Rate  Average  cluster\n",
              "71           DJ Bravo  1490        1153.0   66       129.23    22.58        4\n",
              "204           OA Shah   506         376.0   15       134.57    33.73        1\n",
              "201          R Ashwin   412         373.0   38       110.46    10.84        1\n",
              "103          HH Gibbs   886         797.0   32       111.17    27.69        1\n",
              "129      DB Ravi Teja   375         314.0   19       119.43    19.74        1\n",
              "64   DPMD Jayawardene  1808        1436.0   64       125.91    28.25        4\n",
              "207          MS Bisla   798         680.0   38       117.35    21.00        1\n",
              "351         SV Samson  2584        1922.0   93       134.44    27.78        2\n",
              "30          YK Pathan  3222        2220.0  110       145.14    29.29        0\n",
              "42       AC Gilchrist  2069        1473.0   76       140.46    27.22        2\n",
              "394         HH Pandya  1358         830.0   46       163.61    29.52        4\n",
              "110    AB de Villiers  4868        3175.0  120       153.32    40.57        3\n",
              "161         RS Bopara   531         449.0   18       118.26    29.50        1\n",
              "320         DA Miller  1850        1318.0   56       140.36    33.04        4\n",
              "45          A Symonds   974         741.0   27       131.44    36.07        1"
            ]
          },
          "metadata": {},
          "execution_count": 27
        }
      ]
    },
    {
      "cell_type": "code",
      "metadata": {
        "id": "ldvIaKsQv1bS"
      },
      "source": [
        "Batsmen Clusters - AVERAGE"
      ],
      "execution_count": null,
      "outputs": []
    },
    {
      "cell_type": "code",
      "metadata": {
        "colab": {
          "base_uri": "https://localhost:8080/",
          "height": 410
        },
        "id": "h6CzeYaGv2mn",
        "outputId": "46403a9b-9a86-4b87-8a16-0362a549bdeb"
      },
      "source": [
        "sns.set_style(\"whitegrid\")\n",
        "fig = plt.figure(figsize=(12,6))\n",
        "plt.scatter(Batsmen[\"Average\"], Batsmen[\"Runs\"], color=\"green\")\n",
        "plt.xlabel(\"Average\", fontsize=14)\n",
        "plt.ylabel(\"Runs scored by the Batsmen\", fontsize=14)\n",
        "plt.title(\"IPL Batsmen\", fontsize=16)\n",
        "plt.show()"
      ],
      "execution_count": null,
      "outputs": [
        {
          "output_type": "display_data",
          "data": {
            "image/png": "[encoded data removed]",
            "text/plain": [
              "<Figure size 864x432 with 1 Axes>"
            ]
          },
          "metadata": {}
        }
      ]
    },
    {
      "cell_type": "code",
      "metadata": {
        "colab": {
          "base_uri": "https://localhost:8080/",
          "height": 627
        },
        "id": "RUfPG1igv65r",
        "outputId": "77d5a393-045b-406d-bada-16c65316c15b"
      },
      "source": [
        "kmeans = KMeans(n_clusters=5,random_state=0)\n",
        "kmeans.fit(Batsmen[[\"Average\", \"Runs\"]])\n",
        "Batsmen[\"cluster\"] = kmeans.labels_\n",
        "\n",
        "fig = plt.figure(figsize=(10,10))\n",
        "\n",
        "colors = [\"blue\", \"brown\", \"limegreen\", \"red\",\"yellow\"]\n",
        "\n",
        "for r in range(1,5):\n",
        "    clustered_Batsmen = Batsmen[Batsmen[\"cluster\"] == r]\n",
        "    plt.scatter(clustered_Batsmen[\"Average\"], clustered_Batsmen[\"Runs\"], color=colors[r])\n",
        "    \n",
        "plt.title(\"IPL Batsmen\", fontsize=16)\n",
        "plt.xlabel(\"Average of the Batsmen\", fontsize=14)\n",
        "plt.ylabel(\"Runs scored by the Batsmen\", fontsize=14)\n",
        "    \n",
        "plt.show()"
      ],
      "execution_count": null,
      "outputs": [
        {
          "output_type": "display_data",
          "data": {
            "image/png": "[encoded data removed]",
            "text/plain": [
              "<Figure size 720x720 with 1 Axes>"
            ]
          },
          "metadata": {}
        }
      ]
    },
    {
      "cell_type": "code",
      "metadata": {
        "colab": {
          "base_uri": "https://localhost:8080/",
          "height": 511
        },
        "id": "wCYH0Asa0bg4",
        "outputId": "a074917c-49aa-4eb7-f70a-16bf9889bfd9"
      },
      "source": [
        "Batsmen.sample(15)"
      ],
      "execution_count": null,
      "outputs": [
        {
          "output_type": "execute_result",
          "data": {
            "text/html": [
              "<div>\n",
              "<style scoped>\n",
              "    .dataframe tbody tr th:only-of-type {\n",
              "        vertical-align: middle;\n",
              "    }\n",
              "\n",
              "    .dataframe tbody tr th {\n",
              "        vertical-align: top;\n",
              "    }\n",
              "\n",
              "    .dataframe thead th {\n",
              "        text-align: right;\n",
              "    }\n",
              "</style>\n",
              "<table border=\"1\" class=\"dataframe\">\n",
              "  <thead>\n",
              "    <tr style=\"text-align: right;\">\n",
              "      <th></th>\n",
              "      <th>Player_names</th>\n",
              "      <th>Runs</th>\n",
              "      <th>Balls_played</th>\n",
              "      <th>Out</th>\n",
              "      <th>Strike_Rate</th>\n",
              "      <th>Average</th>\n",
              "      <th>cluster</th>\n",
              "    </tr>\n",
              "  </thead>\n",
              "  <tbody>\n",
              "    <tr>\n",
              "      <th>64</th>\n",
              "      <td>DPMD Jayawardene</td>\n",
              "      <td>1808</td>\n",
              "      <td>1436.0</td>\n",
              "      <td>64</td>\n",
              "      <td>125.91</td>\n",
              "      <td>28.25</td>\n",
              "      <td>2</td>\n",
              "    </tr>\n",
              "    <tr>\n",
              "      <th>383</th>\n",
              "      <td>LMP Simmons</td>\n",
              "      <td>1079</td>\n",
              "      <td>847.0</td>\n",
              "      <td>27</td>\n",
              "      <td>127.39</td>\n",
              "      <td>39.96</td>\n",
              "      <td>2</td>\n",
              "    </tr>\n",
              "    <tr>\n",
              "      <th>45</th>\n",
              "      <td>A Symonds</td>\n",
              "      <td>974</td>\n",
              "      <td>741.0</td>\n",
              "      <td>27</td>\n",
              "      <td>131.44</td>\n",
              "      <td>36.07</td>\n",
              "      <td>0</td>\n",
              "    </tr>\n",
              "    <tr>\n",
              "      <th>182</th>\n",
              "      <td>M Vijay</td>\n",
              "      <td>2619</td>\n",
              "      <td>2126.0</td>\n",
              "      <td>101</td>\n",
              "      <td>123.19</td>\n",
              "      <td>25.93</td>\n",
              "      <td>3</td>\n",
              "    </tr>\n",
              "    <tr>\n",
              "      <th>315</th>\n",
              "      <td>SP Narine</td>\n",
              "      <td>892</td>\n",
              "      <td>534.0</td>\n",
              "      <td>53</td>\n",
              "      <td>167.04</td>\n",
              "      <td>16.83</td>\n",
              "      <td>0</td>\n",
              "    </tr>\n",
              "    <tr>\n",
              "      <th>398</th>\n",
              "      <td>SN Khan</td>\n",
              "      <td>441</td>\n",
              "      <td>312.0</td>\n",
              "      <td>17</td>\n",
              "      <td>141.35</td>\n",
              "      <td>25.94</td>\n",
              "      <td>0</td>\n",
              "    </tr>\n",
              "    <tr>\n",
              "      <th>79</th>\n",
              "      <td>SS Tiwary</td>\n",
              "      <td>1379</td>\n",
              "      <td>1128.0</td>\n",
              "      <td>50</td>\n",
              "      <td>122.25</td>\n",
              "      <td>27.58</td>\n",
              "      <td>2</td>\n",
              "    </tr>\n",
              "    <tr>\n",
              "      <th>7</th>\n",
              "      <td>V Kohli</td>\n",
              "      <td>5888</td>\n",
              "      <td>4462.0</td>\n",
              "      <td>154</td>\n",
              "      <td>131.96</td>\n",
              "      <td>38.23</td>\n",
              "      <td>4</td>\n",
              "    </tr>\n",
              "    <tr>\n",
              "      <th>155</th>\n",
              "      <td>KP Pietersen</td>\n",
              "      <td>1001</td>\n",
              "      <td>741.0</td>\n",
              "      <td>28</td>\n",
              "      <td>135.09</td>\n",
              "      <td>35.75</td>\n",
              "      <td>0</td>\n",
              "    </tr>\n",
              "    <tr>\n",
              "      <th>106</th>\n",
              "      <td>SE Marsh</td>\n",
              "      <td>2489</td>\n",
              "      <td>1858.0</td>\n",
              "      <td>63</td>\n",
              "      <td>133.96</td>\n",
              "      <td>39.51</td>\n",
              "      <td>3</td>\n",
              "    </tr>\n",
              "    <tr>\n",
              "      <th>28</th>\n",
              "      <td>IK Pathan</td>\n",
              "      <td>1150</td>\n",
              "      <td>937.0</td>\n",
              "      <td>53</td>\n",
              "      <td>122.73</td>\n",
              "      <td>21.70</td>\n",
              "      <td>2</td>\n",
              "    </tr>\n",
              "    <tr>\n",
              "      <th>46</th>\n",
              "      <td>RG Sharma</td>\n",
              "      <td>5232</td>\n",
              "      <td>3987.0</td>\n",
              "      <td>167</td>\n",
              "      <td>131.23</td>\n",
              "      <td>31.33</td>\n",
              "      <td>4</td>\n",
              "    </tr>\n",
              "    <tr>\n",
              "      <th>85</th>\n",
              "      <td>AM Rahane</td>\n",
              "      <td>3933</td>\n",
              "      <td>3220.0</td>\n",
              "      <td>124</td>\n",
              "      <td>122.14</td>\n",
              "      <td>31.72</td>\n",
              "      <td>1</td>\n",
              "    </tr>\n",
              "    <tr>\n",
              "      <th>26</th>\n",
              "      <td>Yuvraj Singh</td>\n",
              "      <td>2754</td>\n",
              "      <td>2108.0</td>\n",
              "      <td>111</td>\n",
              "      <td>130.65</td>\n",
              "      <td>24.81</td>\n",
              "      <td>3</td>\n",
              "    </tr>\n",
              "    <tr>\n",
              "      <th>207</th>\n",
              "      <td>MS Bisla</td>\n",
              "      <td>798</td>\n",
              "      <td>680.0</td>\n",
              "      <td>38</td>\n",
              "      <td>117.35</td>\n",
              "      <td>21.00</td>\n",
              "      <td>0</td>\n",
              "    </tr>\n",
              "  </tbody>\n",
              "</table>\n",
              "</div>"
            ],
            "text/plain": [
              "         Player_names  Runs  Balls_played  Out  Strike_Rate  Average  cluster\n",
              "64   DPMD Jayawardene  1808        1436.0   64       125.91    28.25        2\n",
              "383       LMP Simmons  1079         847.0   27       127.39    39.96        2\n",
              "45          A Symonds   974         741.0   27       131.44    36.07        0\n",
              "182           M Vijay  2619        2126.0  101       123.19    25.93        3\n",
              "315         SP Narine   892         534.0   53       167.04    16.83        0\n",
              "398           SN Khan   441         312.0   17       141.35    25.94        0\n",
              "79          SS Tiwary  1379        1128.0   50       122.25    27.58        2\n",
              "7             V Kohli  5888        4462.0  154       131.96    38.23        4\n",
              "155      KP Pietersen  1001         741.0   28       135.09    35.75        0\n",
              "106          SE Marsh  2489        1858.0   63       133.96    39.51        3\n",
              "28          IK Pathan  1150         937.0   53       122.73    21.70        2\n",
              "46          RG Sharma  5232        3987.0  167       131.23    31.33        4\n",
              "85          AM Rahane  3933        3220.0  124       122.14    31.72        1\n",
              "26       Yuvraj Singh  2754        2108.0  111       130.65    24.81        3\n",
              "207          MS Bisla   798         680.0   38       117.35    21.00        0"
            ]
          },
          "metadata": {},
          "execution_count": 41
        }
      ]
    },
    {
      "cell_type": "code",
      "metadata": {
        "id": "2iKe6r9T2uxN"
      },
      "source": [
        "Creation of Bowlers dataset and calculation of their economy rate"
      ],
      "execution_count": null,
      "outputs": []
    },
    {
      "cell_type": "code",
      "metadata": {
        "id": "JsN_An8Z250Y"
      },
      "source": [
        "# To analyse the performance of a bowler, we need runs given by him and the number of overs he bowled.\n",
        "# The economy rate of the bowler can be calculated from these two values.\n",
        "D = []\n",
        "E = []\n",
        "\n",
        "for j in runs[\"bowler\"].unique():\n",
        "    #runs given by him can be calculated by the sum of the runs and extras given by a bowler\n",
        "    d = runs[\"runs_off_bat\"][runs[\"bowler\"] == j].sum() + runs[\"wides\"][runs[\"bowler\"] == j].sum() + runs[\"noballs\"][runs[\"bowler\"] == j].sum() \n",
        "        #counting the number of balls bowled by a bowler\n",
        "    e = ((runs[\"ball\"][runs[\"bowler\"] == j].count() - runs[\"wides\"][runs[\"bowler\"] == j].sum() - runs[\"noballs\"][runs[\"bowler\"] == j].sum()) // 6)\n",
        "    \n",
        "    D.append(d)\n",
        "    E.append(e)\n",
        " "
      ],
      "execution_count": null,
      "outputs": []
    },
    {
      "cell_type": "code",
      "metadata": {
        "colab": {
          "base_uri": "https://localhost:8080/",
          "height": 203
        },
        "id": "sM2e1wMd5rfS",
        "outputId": "9b723f56-33c4-4308-81e4-45492e27c508"
      },
      "source": [
        "Bowlers = pd.DataFrame({\"Bowler_names\": runs[\"bowler\"].unique()})\n",
        "Bowlers[\"Runs\"] = D\n",
        "Bowlers[\"Overs\"] = E\n",
        "Bowlers.head()"
      ],
      "execution_count": null,
      "outputs": [
        {
          "output_type": "execute_result",
          "data": {
            "text/html": [
              "<div>\n",
              "<style scoped>\n",
              "    .dataframe tbody tr th:only-of-type {\n",
              "        vertical-align: middle;\n",
              "    }\n",
              "\n",
              "    .dataframe tbody tr th {\n",
              "        vertical-align: top;\n",
              "    }\n",
              "\n",
              "    .dataframe thead th {\n",
              "        text-align: right;\n",
              "    }\n",
              "</style>\n",
              "<table border=\"1\" class=\"dataframe\">\n",
              "  <thead>\n",
              "    <tr style=\"text-align: right;\">\n",
              "      <th></th>\n",
              "      <th>Bowler_names</th>\n",
              "      <th>Runs</th>\n",
              "      <th>Overs</th>\n",
              "    </tr>\n",
              "  </thead>\n",
              "  <tbody>\n",
              "    <tr>\n",
              "      <th>0</th>\n",
              "      <td>P Kumar</td>\n",
              "      <td>3251.0</td>\n",
              "      <td>415.0</td>\n",
              "    </tr>\n",
              "    <tr>\n",
              "      <th>1</th>\n",
              "      <td>Z Khan</td>\n",
              "      <td>2782.0</td>\n",
              "      <td>364.0</td>\n",
              "    </tr>\n",
              "    <tr>\n",
              "      <th>2</th>\n",
              "      <td>AA Noffke</td>\n",
              "      <td>40.0</td>\n",
              "      <td>3.0</td>\n",
              "    </tr>\n",
              "    <tr>\n",
              "      <th>3</th>\n",
              "      <td>JH Kallis</td>\n",
              "      <td>2293.0</td>\n",
              "      <td>288.0</td>\n",
              "    </tr>\n",
              "    <tr>\n",
              "      <th>4</th>\n",
              "      <td>SB Joshi</td>\n",
              "      <td>82.0</td>\n",
              "      <td>9.0</td>\n",
              "    </tr>\n",
              "  </tbody>\n",
              "</table>\n",
              "</div>"
            ],
            "text/plain": [
              "  Bowler_names    Runs  Overs\n",
              "0      P Kumar  3251.0  415.0\n",
              "1       Z Khan  2782.0  364.0\n",
              "2    AA Noffke    40.0    3.0\n",
              "3    JH Kallis  2293.0  288.0\n",
              "4     SB Joshi    82.0    9.0"
            ]
          },
          "metadata": {},
          "execution_count": 46
        }
      ]
    },
    {
      "cell_type": "code",
      "metadata": {
        "colab": {
          "base_uri": "https://localhost:8080/",
          "height": 203
        },
        "id": "q4l1RvQi5uCb",
        "outputId": "c7ec04b3-dd1f-424d-aac8-f2b9461f1304"
      },
      "source": [
        "Bowlers = Bowlers[Bowlers[\"Overs\"] > 100]\n",
        "Bowlers.head()"
      ],
      "execution_count": null,
      "outputs": [
        {
          "output_type": "execute_result",
          "data": {
            "text/html": [
              "<div>\n",
              "<style scoped>\n",
              "    .dataframe tbody tr th:only-of-type {\n",
              "        vertical-align: middle;\n",
              "    }\n",
              "\n",
              "    .dataframe tbody tr th {\n",
              "        vertical-align: top;\n",
              "    }\n",
              "\n",
              "    .dataframe thead th {\n",
              "        text-align: right;\n",
              "    }\n",
              "</style>\n",
              "<table border=\"1\" class=\"dataframe\">\n",
              "  <thead>\n",
              "    <tr style=\"text-align: right;\">\n",
              "      <th></th>\n",
              "      <th>Bowler_names</th>\n",
              "      <th>Runs</th>\n",
              "      <th>Overs</th>\n",
              "    </tr>\n",
              "  </thead>\n",
              "  <tbody>\n",
              "    <tr>\n",
              "      <th>0</th>\n",
              "      <td>P Kumar</td>\n",
              "      <td>3251.0</td>\n",
              "      <td>415.0</td>\n",
              "    </tr>\n",
              "    <tr>\n",
              "      <th>1</th>\n",
              "      <td>Z Khan</td>\n",
              "      <td>2782.0</td>\n",
              "      <td>364.0</td>\n",
              "    </tr>\n",
              "    <tr>\n",
              "      <th>3</th>\n",
              "      <td>JH Kallis</td>\n",
              "      <td>2293.0</td>\n",
              "      <td>288.0</td>\n",
              "    </tr>\n",
              "    <tr>\n",
              "      <th>6</th>\n",
              "      <td>AB Dinda</td>\n",
              "      <td>2073.0</td>\n",
              "      <td>250.0</td>\n",
              "    </tr>\n",
              "    <tr>\n",
              "      <th>7</th>\n",
              "      <td>I Sharma</td>\n",
              "      <td>2604.0</td>\n",
              "      <td>316.0</td>\n",
              "    </tr>\n",
              "  </tbody>\n",
              "</table>\n",
              "</div>"
            ],
            "text/plain": [
              "  Bowler_names    Runs  Overs\n",
              "0      P Kumar  3251.0  415.0\n",
              "1       Z Khan  2782.0  364.0\n",
              "3    JH Kallis  2293.0  288.0\n",
              "6     AB Dinda  2073.0  250.0\n",
              "7     I Sharma  2604.0  316.0"
            ]
          },
          "metadata": {},
          "execution_count": 47
        }
      ]
    },
    {
      "cell_type": "code",
      "metadata": {
        "colab": {
          "base_uri": "https://localhost:8080/",
          "height": 203
        },
        "id": "RjBQPAJu5yCj",
        "outputId": "0bbab960-57f2-4373-cf27-7e2b350d4333"
      },
      "source": [
        "# Economy rate can be calculated by dividing the total runs conceded by the number of overs bowled.\n",
        "Bowlers[\"Econ_Rate\"] = (Bowlers[\"Runs\"] / Bowlers[\"Overs\"]).round(2)\n",
        "Bowlers.head()"
      ],
      "execution_count": null,
      "outputs": [
        {
          "output_type": "execute_result",
          "data": {
            "text/html": [
              "<div>\n",
              "<style scoped>\n",
              "    .dataframe tbody tr th:only-of-type {\n",
              "        vertical-align: middle;\n",
              "    }\n",
              "\n",
              "    .dataframe tbody tr th {\n",
              "        vertical-align: top;\n",
              "    }\n",
              "\n",
              "    .dataframe thead th {\n",
              "        text-align: right;\n",
              "    }\n",
              "</style>\n",
              "<table border=\"1\" class=\"dataframe\">\n",
              "  <thead>\n",
              "    <tr style=\"text-align: right;\">\n",
              "      <th></th>\n",
              "      <th>Bowler_names</th>\n",
              "      <th>Runs</th>\n",
              "      <th>Overs</th>\n",
              "      <th>Econ_Rate</th>\n",
              "    </tr>\n",
              "  </thead>\n",
              "  <tbody>\n",
              "    <tr>\n",
              "      <th>0</th>\n",
              "      <td>P Kumar</td>\n",
              "      <td>3251.0</td>\n",
              "      <td>415.0</td>\n",
              "      <td>7.83</td>\n",
              "    </tr>\n",
              "    <tr>\n",
              "      <th>1</th>\n",
              "      <td>Z Khan</td>\n",
              "      <td>2782.0</td>\n",
              "      <td>364.0</td>\n",
              "      <td>7.64</td>\n",
              "    </tr>\n",
              "    <tr>\n",
              "      <th>3</th>\n",
              "      <td>JH Kallis</td>\n",
              "      <td>2293.0</td>\n",
              "      <td>288.0</td>\n",
              "      <td>7.96</td>\n",
              "    </tr>\n",
              "    <tr>\n",
              "      <th>6</th>\n",
              "      <td>AB Dinda</td>\n",
              "      <td>2073.0</td>\n",
              "      <td>250.0</td>\n",
              "      <td>8.29</td>\n",
              "    </tr>\n",
              "    <tr>\n",
              "      <th>7</th>\n",
              "      <td>I Sharma</td>\n",
              "      <td>2604.0</td>\n",
              "      <td>316.0</td>\n",
              "      <td>8.24</td>\n",
              "    </tr>\n",
              "  </tbody>\n",
              "</table>\n",
              "</div>"
            ],
            "text/plain": [
              "  Bowler_names    Runs  Overs  Econ_Rate\n",
              "0      P Kumar  3251.0  415.0       7.83\n",
              "1       Z Khan  2782.0  364.0       7.64\n",
              "3    JH Kallis  2293.0  288.0       7.96\n",
              "6     AB Dinda  2073.0  250.0       8.29\n",
              "7     I Sharma  2604.0  316.0       8.24"
            ]
          },
          "metadata": {},
          "execution_count": 48
        }
      ]
    },
    {
      "cell_type": "code",
      "metadata": {
        "colab": {
          "base_uri": "https://localhost:8080/",
          "height": 282
        },
        "id": "SFNiQVeV53TF",
        "outputId": "d9fa1cbe-de50-403d-ecf1-9780643044af"
      },
      "source": [
        "Bowlers[\"Econ_Rate\"].hist(color=\"red\")"
      ],
      "execution_count": null,
      "outputs": [
        {
          "output_type": "execute_result",
          "data": {
            "text/plain": [
              "<matplotlib.axes._subplots.AxesSubplot at 0x7f2391de4ed0>"
            ]
          },
          "metadata": {},
          "execution_count": 49
        },
        {
          "output_type": "display_data",
          "data": {
            "image/png": "[encoded data removed]",
            "text/plain": [
              "<Figure size 432x288 with 1 Axes>"
            ]
          },
          "metadata": {}
        }
      ]
    },
    {
      "cell_type": "code",
      "metadata": {
        "id": "sSjwO1BM6E34"
      },
      "source": [
        "There is no need to cluster the players below economy rate of 4 as they are the star bowlers. \n",
        "Similarly, bowlers with economy rates above 12.5 are not likely to be good candidates for bowling. \n",
        "They are most likely batsmen, and thus, they too can be excluded."
      ],
      "execution_count": null,
      "outputs": []
    },
    {
      "cell_type": "code",
      "metadata": {
        "id": "JhPB2N_V6LCK"
      },
      "source": [
        "Applying K-means algorithm to bowlers dataset"
      ],
      "execution_count": null,
      "outputs": []
    },
    {
      "cell_type": "code",
      "metadata": {
        "colab": {
          "base_uri": "https://localhost:8080/",
          "height": 410
        },
        "id": "b06tEIG_6OOr",
        "outputId": "5cc27da1-4f8b-40e5-9ef8-2190f3779bb7"
      },
      "source": [
        "sns.set_style(\"whitegrid\")\n",
        "fig = plt.figure(figsize=(12,6))\n",
        "plt.scatter(Bowlers[\"Econ_Rate\"], Bowlers[\"Runs\"], color=\"red\")\n",
        "plt.xlabel(\"Economy Rate of the Bowler\", fontsize=14)\n",
        "plt.ylabel(\"Number of Overs bowled by the Bowler\", fontsize=14)\n",
        "plt.title(\"IPL Bowlers\", fontsize=16)\n",
        "plt.show()"
      ],
      "execution_count": null,
      "outputs": [
        {
          "output_type": "display_data",
          "data": {
            "image/png": "[encoded data removed]",
            "text/plain": [
              "<Figure size 864x432 with 1 Axes>"
            ]
          },
          "metadata": {}
        }
      ]
    },
    {
      "cell_type": "code",
      "metadata": {
        "id": "hLg9X7e16YwV"
      },
      "source": [
        "The distribution appears to be largely in 5 clusters again\n",
        "With runs under 500\n",
        "With runs under 500 - 1000\n",
        "With runs under 1000 - 1500 \n",
        "With runs under 1500 - 2000 \n",
        "With runs above 2000"
      ],
      "execution_count": null,
      "outputs": []
    },
    {
      "cell_type": "code",
      "metadata": {
        "colab": {
          "base_uri": "https://localhost:8080/",
          "height": 410
        },
        "id": "y812Mdj06fdM",
        "outputId": "f7bd8919-b0a6-4ed5-a388-d0f060cdb816"
      },
      "source": [
        "kmeans = KMeans(n_clusters=5)\n",
        "kmeans.fit(Bowlers[[\"Econ_Rate\", \"Overs\"]])\n",
        "Bowlers[\"cluster\"] = kmeans.labels_\n",
        "\n",
        "fig = plt.figure(figsize=(12,6))\n",
        "\n",
        "colors = [\"blue\", \"green\", \"black\", \"red\",\"yellow\"]\n",
        "\n",
        "for r in range(1,5):\n",
        "    clustered_Bowlers = Bowlers[Bowlers[\"cluster\"] == r]\n",
        "    plt.scatter(clustered_Bowlers[\"Econ_Rate\"], clustered_Bowlers[\"Overs\"], color=colors[r])\n",
        "    \n",
        "plt.title(\"IPL Bowlers\", fontsize=16)\n",
        "plt.xlabel(\"Economy Rate of the Bowler\", fontsize=14)\n",
        "plt.ylabel(\"Number of Overs bowled by the Bowler\", fontsize=14)\n",
        "plt.show()"
      ],
      "execution_count": null,
      "outputs": [
        {
          "output_type": "display_data",
          "data": {
            "image/png": "[encoded data removed]",
            "text/plain": [
              "<Figure size 864x432 with 1 Axes>"
            ]
          },
          "metadata": {}
        }
      ]
    },
    {
      "cell_type": "code",
      "metadata": {
        "id": "2xDCgE9o6qHt"
      },
      "source": [
        "Bowlers Clusters"
      ],
      "execution_count": null,
      "outputs": []
    },
    {
      "cell_type": "code",
      "metadata": {
        "colab": {
          "base_uri": "https://localhost:8080/",
          "height": 511
        },
        "id": "ALEYIkAS6wWp",
        "outputId": "c521c035-e5c6-434d-c661-425639f79f19"
      },
      "source": [
        "Bowlers.sample(15)"
      ],
      "execution_count": null,
      "outputs": [
        {
          "output_type": "execute_result",
          "data": {
            "text/html": [
              "<div>\n",
              "<style scoped>\n",
              "    .dataframe tbody tr th:only-of-type {\n",
              "        vertical-align: middle;\n",
              "    }\n",
              "\n",
              "    .dataframe tbody tr th {\n",
              "        vertical-align: top;\n",
              "    }\n",
              "\n",
              "    .dataframe thead th {\n",
              "        text-align: right;\n",
              "    }\n",
              "</style>\n",
              "<table border=\"1\" class=\"dataframe\">\n",
              "  <thead>\n",
              "    <tr style=\"text-align: right;\">\n",
              "      <th></th>\n",
              "      <th>Bowler_names</th>\n",
              "      <th>Runs</th>\n",
              "      <th>Overs</th>\n",
              "      <th>Econ_Rate</th>\n",
              "      <th>cluster</th>\n",
              "    </tr>\n",
              "  </thead>\n",
              "  <tbody>\n",
              "    <tr>\n",
              "      <th>66</th>\n",
              "      <td>DW Steyn</td>\n",
              "      <td>2523.0</td>\n",
              "      <td>360.0</td>\n",
              "      <td>7.01</td>\n",
              "      <td>4</td>\n",
              "    </tr>\n",
              "    <tr>\n",
              "      <th>38</th>\n",
              "      <td>RP Singh</td>\n",
              "      <td>2338.0</td>\n",
              "      <td>295.0</td>\n",
              "      <td>7.93</td>\n",
              "      <td>4</td>\n",
              "    </tr>\n",
              "    <tr>\n",
              "      <th>250</th>\n",
              "      <td>MG Johnson</td>\n",
              "      <td>1708.0</td>\n",
              "      <td>204.0</td>\n",
              "      <td>8.37</td>\n",
              "      <td>0</td>\n",
              "    </tr>\n",
              "    <tr>\n",
              "      <th>277</th>\n",
              "      <td>NM Coulter-Nile</td>\n",
              "      <td>925.0</td>\n",
              "      <td>119.0</td>\n",
              "      <td>7.77</td>\n",
              "      <td>3</td>\n",
              "    </tr>\n",
              "    <tr>\n",
              "      <th>307</th>\n",
              "      <td>SN Thakur</td>\n",
              "      <td>1340.0</td>\n",
              "      <td>149.0</td>\n",
              "      <td>8.99</td>\n",
              "      <td>3</td>\n",
              "    </tr>\n",
              "    <tr>\n",
              "      <th>30</th>\n",
              "      <td>SK Trivedi</td>\n",
              "      <td>1904.0</td>\n",
              "      <td>248.0</td>\n",
              "      <td>7.68</td>\n",
              "      <td>0</td>\n",
              "    </tr>\n",
              "    <tr>\n",
              "      <th>19</th>\n",
              "      <td>MS Gony</td>\n",
              "      <td>1287.0</td>\n",
              "      <td>148.0</td>\n",
              "      <td>8.70</td>\n",
              "      <td>3</td>\n",
              "    </tr>\n",
              "    <tr>\n",
              "      <th>89</th>\n",
              "      <td>RA Jadeja</td>\n",
              "      <td>3470.0</td>\n",
              "      <td>449.0</td>\n",
              "      <td>7.73</td>\n",
              "      <td>2</td>\n",
              "    </tr>\n",
              "    <tr>\n",
              "      <th>14</th>\n",
              "      <td>IK Pathan</td>\n",
              "      <td>2649.0</td>\n",
              "      <td>338.0</td>\n",
              "      <td>7.84</td>\n",
              "      <td>4</td>\n",
              "    </tr>\n",
              "    <tr>\n",
              "      <th>348</th>\n",
              "      <td>K Rabada</td>\n",
              "      <td>1113.0</td>\n",
              "      <td>134.0</td>\n",
              "      <td>8.31</td>\n",
              "      <td>3</td>\n",
              "    </tr>\n",
              "    <tr>\n",
              "      <th>126</th>\n",
              "      <td>SB Jakati</td>\n",
              "      <td>1451.0</td>\n",
              "      <td>178.0</td>\n",
              "      <td>8.15</td>\n",
              "      <td>0</td>\n",
              "    </tr>\n",
              "    <tr>\n",
              "      <th>111</th>\n",
              "      <td>MC Henriques</td>\n",
              "      <td>1244.0</td>\n",
              "      <td>147.0</td>\n",
              "      <td>8.46</td>\n",
              "      <td>3</td>\n",
              "    </tr>\n",
              "    <tr>\n",
              "      <th>47</th>\n",
              "      <td>DS Kulkarni</td>\n",
              "      <td>2426.0</td>\n",
              "      <td>290.0</td>\n",
              "      <td>8.37</td>\n",
              "      <td>4</td>\n",
              "    </tr>\n",
              "    <tr>\n",
              "      <th>55</th>\n",
              "      <td>DJ Bravo</td>\n",
              "      <td>3798.0</td>\n",
              "      <td>451.0</td>\n",
              "      <td>8.42</td>\n",
              "      <td>2</td>\n",
              "    </tr>\n",
              "    <tr>\n",
              "      <th>299</th>\n",
              "      <td>MJ McClenaghan</td>\n",
              "      <td>1803.0</td>\n",
              "      <td>211.0</td>\n",
              "      <td>8.55</td>\n",
              "      <td>0</td>\n",
              "    </tr>\n",
              "  </tbody>\n",
              "</table>\n",
              "</div>"
            ],
            "text/plain": [
              "        Bowler_names    Runs  Overs  Econ_Rate  cluster\n",
              "66          DW Steyn  2523.0  360.0       7.01        4\n",
              "38          RP Singh  2338.0  295.0       7.93        4\n",
              "250       MG Johnson  1708.0  204.0       8.37        0\n",
              "277  NM Coulter-Nile   925.0  119.0       7.77        3\n",
              "307        SN Thakur  1340.0  149.0       8.99        3\n",
              "30        SK Trivedi  1904.0  248.0       7.68        0\n",
              "19           MS Gony  1287.0  148.0       8.70        3\n",
              "89         RA Jadeja  3470.0  449.0       7.73        2\n",
              "14         IK Pathan  2649.0  338.0       7.84        4\n",
              "348         K Rabada  1113.0  134.0       8.31        3\n",
              "126        SB Jakati  1451.0  178.0       8.15        0\n",
              "111     MC Henriques  1244.0  147.0       8.46        3\n",
              "47       DS Kulkarni  2426.0  290.0       8.37        4\n",
              "55          DJ Bravo  3798.0  451.0       8.42        2\n",
              "299   MJ McClenaghan  1803.0  211.0       8.55        0"
            ]
          },
          "metadata": {},
          "execution_count": 57
        }
      ]
    }
  ]
}